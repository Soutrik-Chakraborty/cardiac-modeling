{
  "nbformat": 4,
  "nbformat_minor": 0,
  "metadata": {
    "colab": {
      "provenance": [],
      "gpuType": "T4",
      "authorship_tag": "ABX9TyPB3jf8a7wUfQH9Q/W1dv+i",
      "include_colab_link": true
    },
    "kernelspec": {
      "name": "python3",
      "display_name": "Python 3"
    },
    "language_info": {
      "name": "python"
    },
    "accelerator": "GPU"
  },
  "cells": [
    {
      "cell_type": "markdown",
      "metadata": {
        "id": "view-in-github",
        "colab_type": "text"
      },
      "source": [
        "<a href=\"https://colab.research.google.com/github/Soutrik-Chakraborty/cardiac-modeling/blob/main/Untitled6.ipynb\" target=\"_parent\"><img src=\"https://colab.research.google.com/assets/colab-badge.svg\" alt=\"Open In Colab\"/></a>"
      ]
    },
    {
      "cell_type": "code",
      "execution_count": null,
      "metadata": {
        "colab": {
          "base_uri": "https://localhost:8080/"
        },
        "id": "to_MY5MHQ_J1",
        "outputId": "f9eb4084-eb0a-4a00-9024-e1341d4e4336"
      },
      "outputs": [
        {
          "output_type": "stream",
          "name": "stdout",
          "text": [
            "Collecting pydicom\n",
            "  Downloading pydicom-3.0.1-py3-none-any.whl.metadata (9.4 kB)\n",
            "Requirement already satisfied: nibabel in /usr/local/lib/python3.11/dist-packages (5.3.2)\n",
            "Requirement already satisfied: opencv-python in /usr/local/lib/python3.11/dist-packages (4.12.0.88)\n",
            "Requirement already satisfied: numpy in /usr/local/lib/python3.11/dist-packages (2.0.2)\n",
            "Requirement already satisfied: importlib-resources>=5.12 in /usr/local/lib/python3.11/dist-packages (from nibabel) (6.5.2)\n",
            "Requirement already satisfied: packaging>=20 in /usr/local/lib/python3.11/dist-packages (from nibabel) (25.0)\n",
            "Requirement already satisfied: typing-extensions>=4.6 in /usr/local/lib/python3.11/dist-packages (from nibabel) (4.14.1)\n",
            "Downloading pydicom-3.0.1-py3-none-any.whl (2.4 MB)\n",
            "\u001b[2K   \u001b[90m━━━━━━━━━━━━━━━━━━━━━━━━━━━━━━━━━━━━━━━━\u001b[0m \u001b[32m2.4/2.4 MB\u001b[0m \u001b[31m33.8 MB/s\u001b[0m eta \u001b[36m0:00:00\u001b[0m\n",
            "\u001b[?25hInstalling collected packages: pydicom\n",
            "Successfully installed pydicom-3.0.1\n"
          ]
        }
      ],
      "source": [
        "pip install pydicom nibabel opencv-python numpy"
      ]
    },
    {
      "cell_type": "code",
      "source": [
        "import os\n",
        "import numpy as np\n",
        "import pydicom\n",
        "import nibabel as nib\n",
        "import cv2"
      ],
      "metadata": {
        "id": "B2qc6GSZRPel"
      },
      "execution_count": null,
      "outputs": []
    },
    {
      "cell_type": "code",
      "source": [
        "def load_dicom_series(dicom_folder):\n",
        "    slices = []\n",
        "    for fname in sorted(os.listdir(dicom_folder)):\n",
        "        if fname.endswith(\".dcm\"):\n",
        "            path = os.path.join(dicom_folder, fname)\n",
        "            dcm = pydicom.dcmread(path)\n",
        "            slices.append((dcm, int(fname.split('-')[1].split('.')[0])))\n",
        "    # Sort by instance number or slice order\n",
        "    slices.sort(key=lambda x: x[1])\n",
        "    images = np.stack([s.pixel_array for s, _ in slices])\n",
        "    spacing = float(slices[0][0].PixelSpacing[0])\n",
        "\n",
        "    # Calculate slice thickness, handle potential errors\n",
        "    if len(slices) > 1 and hasattr(slices[0][0], 'SliceLocation') and hasattr(slices[1][0], 'SliceLocation'):\n",
        "        slice_thickness = abs(slices[1][0].SliceLocation - slices[0][0].SliceLocation)\n",
        "    else:\n",
        "        slice_thickness = 0 # Initialize with zero\n",
        "\n",
        "    # Fallback to PixelSpacing[2] if slice_thickness is zero or not available\n",
        "    if slice_thickness == 0 and hasattr(slices[0][0], 'PixelSpacing') and len(slices[0][0].PixelSpacing) > 2:\n",
        "         slice_thickness = float(slices[0][0].PixelSpacing[2])\n",
        "\n",
        "    # If still zero, use a default value (e.g., 1.0)\n",
        "    if slice_thickness == 0:\n",
        "        slice_thickness = 1.0\n",
        "        print(\"Warning: Could not determine slice thickness, using default value of 1.0\")\n",
        "\n",
        "\n",
        "    return images, spacing, slice_thickness, [s[1] for s in slices]"
      ],
      "metadata": {
        "id": "xh_ESXMeRirv"
      },
      "execution_count": null,
      "outputs": []
    },
    {
      "cell_type": "code",
      "source": [
        "def load_contour_file(file_path):\n",
        "    with open(file_path, \"r\") as f:\n",
        "        coords = [list(map(float, line.strip().split())) for line in f if line.strip()]\n",
        "    if not coords:\n",
        "        return np.array([], dtype=np.int32)\n",
        "    return np.array(coords, dtype=np.int32)"
      ],
      "metadata": {
        "id": "zE84TrBGRpqQ"
      },
      "execution_count": null,
      "outputs": []
    },
    {
      "cell_type": "code",
      "source": [
        "def create_mask(image_shape, contour):\n",
        "    mask = np.zeros(image_shape, dtype=np.uint8)\n",
        "    if contour.size > 0:\n",
        "        contour = contour.reshape((-1, 1, 2)).astype(np.int32)\n",
        "        cv2.fillPoly(mask, [contour], color=1)\n",
        "    return mask"
      ],
      "metadata": {
        "id": "q3A14KWER6tP"
      },
      "execution_count": null,
      "outputs": []
    },
    {
      "cell_type": "code",
      "source": [
        "def contours_to_mask(contour_folder, dicom_numbers, image_shape, label='i'):\n",
        "    mask_volume = np.zeros((len(dicom_numbers), *image_shape), dtype=np.uint8)\n",
        "    for idx, num in enumerate(dicom_numbers):\n",
        "        fname = f\"P01-{num:04d}-{label}contour-manual.txt\"\n",
        "        path = os.path.join(contour_folder, fname)\n",
        "        if os.path.exists(path):\n",
        "            contour = load_contour_file(path)\n",
        "            mask = create_mask(image_shape, contour)\n",
        "            mask_volume[idx] = mask\n",
        "    return mask_volume"
      ],
      "metadata": {
        "id": "5Q6JMRk-SAJ-"
      },
      "execution_count": null,
      "outputs": []
    },
    {
      "cell_type": "code",
      "source": [
        "def save_as_nifti(volume, output_path, spacing, slice_thickness):\n",
        "    affine = np.diag([spacing, spacing, slice_thickness, 1])\n",
        "    nib.save(nib.Nifti1Image(volume.astype(np.int16), affine), output_path)\n",
        "    print(f\"Saved: {output_path}\")"
      ],
      "metadata": {
        "id": "0OlBaI87SF17"
      },
      "execution_count": null,
      "outputs": []
    },
    {
      "cell_type": "code",
      "source": [
        "def process_patient(patient_root, output_dir, label='i'):\n",
        "    dicom_folder = os.path.join(patient_root, \"P01dicom\")\n",
        "    contour_folder = os.path.join(patient_root, \"P01contours-manual\")\n",
        "    os.makedirs(output_dir, exist_ok=True)\n",
        "\n",
        "    print(\"Loading DICOMs...\")\n",
        "    images, spacing, thickness, dicom_numbers = load_dicom_series(dicom_folder)\n",
        "\n",
        "    print(\"Generating masks from contours...\")\n",
        "    masks = contours_to_mask(contour_folder, dicom_numbers, images.shape[1:], label=label)\n",
        "\n",
        "    # Save as NIfTI\n",
        "    save_as_nifti(images, os.path.join(output_dir, f\"P01_image.nii.gz\"), spacing, thickness)\n",
        "    save_as_nifti(masks, os.path.join(output_dir, f\"P01_mask_{label}.nii.gz\"), spacing, thickness)"
      ],
      "metadata": {
        "id": "9C9kD3Q6STQV"
      },
      "execution_count": null,
      "outputs": []
    },
    {
      "cell_type": "code",
      "source": [
        "# === RUN THE PIPELINE ===\n",
        "# Update these paths for your environment\n",
        "patient_folder = \"/content/RVSC/TrainingSet/patient01\"\n",
        "output_folder = \"/content/RVSC/Processed/P01\"\n",
        "\n",
        "process_patient(patient_folder, output_folder, label='i')  # 'i' = endocardium, 'o' = epicardium"
      ],
      "metadata": {
        "colab": {
          "base_uri": "https://localhost:8080/"
        },
        "id": "cvvllee-Xzdo",
        "outputId": "fe265093-3f34-4441-bc95-c737e76d8437"
      },
      "execution_count": null,
      "outputs": [
        {
          "output_type": "stream",
          "name": "stdout",
          "text": [
            "Loading DICOMs...\n",
            "Warning: Could not determine slice thickness, using default value of 1.0\n",
            "Generating masks from contours...\n",
            "Saved: /content/RVSC/Processed/P01/P01_image.nii.gz\n",
            "Saved: /content/RVSC/Processed/P01/P01_mask_i.nii.gz\n"
          ]
        }
      ]
    },
    {
      "cell_type": "code",
      "source": [
        "pip install nibabel vedo scikit-image"
      ],
      "metadata": {
        "colab": {
          "base_uri": "https://localhost:8080/"
        },
        "id": "cfp2Vgs6ZUKN",
        "outputId": "ed1f3a21-2173-4df4-dad6-bddb50c903e2"
      },
      "execution_count": null,
      "outputs": [
        {
          "output_type": "stream",
          "name": "stdout",
          "text": [
            "Requirement already satisfied: nibabel in /usr/local/lib/python3.11/dist-packages (5.3.2)\n",
            "Collecting vedo\n",
            "  Downloading vedo-2025.5.4-py3-none-any.whl.metadata (14 kB)\n",
            "Requirement already satisfied: scikit-image in /usr/local/lib/python3.11/dist-packages (0.25.2)\n",
            "Requirement already satisfied: importlib-resources>=5.12 in /usr/local/lib/python3.11/dist-packages (from nibabel) (6.5.2)\n",
            "Requirement already satisfied: numpy>=1.22 in /usr/local/lib/python3.11/dist-packages (from nibabel) (2.0.2)\n",
            "Requirement already satisfied: packaging>=20 in /usr/local/lib/python3.11/dist-packages (from nibabel) (25.0)\n",
            "Requirement already satisfied: typing-extensions>=4.6 in /usr/local/lib/python3.11/dist-packages (from nibabel) (4.14.1)\n",
            "Collecting vtk (from vedo)\n",
            "  Downloading vtk-9.5.0-cp311-cp311-manylinux2014_x86_64.manylinux_2_17_x86_64.whl.metadata (5.5 kB)\n",
            "Requirement already satisfied: Pygments in /usr/local/lib/python3.11/dist-packages (from vedo) (2.19.2)\n",
            "Requirement already satisfied: scipy>=1.11.4 in /usr/local/lib/python3.11/dist-packages (from scikit-image) (1.16.0)\n",
            "Requirement already satisfied: networkx>=3.0 in /usr/local/lib/python3.11/dist-packages (from scikit-image) (3.5)\n",
            "Requirement already satisfied: pillow>=10.1 in /usr/local/lib/python3.11/dist-packages (from scikit-image) (11.3.0)\n",
            "Requirement already satisfied: imageio!=2.35.0,>=2.33 in /usr/local/lib/python3.11/dist-packages (from scikit-image) (2.37.0)\n",
            "Requirement already satisfied: tifffile>=2022.8.12 in /usr/local/lib/python3.11/dist-packages (from scikit-image) (2025.6.11)\n",
            "Requirement already satisfied: lazy-loader>=0.4 in /usr/local/lib/python3.11/dist-packages (from scikit-image) (0.4)\n",
            "Requirement already satisfied: matplotlib>=2.0.0 in /usr/local/lib/python3.11/dist-packages (from vtk->vedo) (3.10.0)\n",
            "Requirement already satisfied: contourpy>=1.0.1 in /usr/local/lib/python3.11/dist-packages (from matplotlib>=2.0.0->vtk->vedo) (1.3.2)\n",
            "Requirement already satisfied: cycler>=0.10 in /usr/local/lib/python3.11/dist-packages (from matplotlib>=2.0.0->vtk->vedo) (0.12.1)\n",
            "Requirement already satisfied: fonttools>=4.22.0 in /usr/local/lib/python3.11/dist-packages (from matplotlib>=2.0.0->vtk->vedo) (4.59.0)\n",
            "Requirement already satisfied: kiwisolver>=1.3.1 in /usr/local/lib/python3.11/dist-packages (from matplotlib>=2.0.0->vtk->vedo) (1.4.8)\n",
            "Requirement already satisfied: pyparsing>=2.3.1 in /usr/local/lib/python3.11/dist-packages (from matplotlib>=2.0.0->vtk->vedo) (3.2.3)\n",
            "Requirement already satisfied: python-dateutil>=2.7 in /usr/local/lib/python3.11/dist-packages (from matplotlib>=2.0.0->vtk->vedo) (2.9.0.post0)\n",
            "Requirement already satisfied: six>=1.5 in /usr/local/lib/python3.11/dist-packages (from python-dateutil>=2.7->matplotlib>=2.0.0->vtk->vedo) (1.17.0)\n",
            "Downloading vedo-2025.5.4-py3-none-any.whl (2.8 MB)\n",
            "\u001b[2K   \u001b[90m━━━━━━━━━━━━━━━━━━━━━━━━━━━━━━━━━━━━━━━━\u001b[0m \u001b[32m2.8/2.8 MB\u001b[0m \u001b[31m44.2 MB/s\u001b[0m eta \u001b[36m0:00:00\u001b[0m\n",
            "\u001b[?25hDownloading vtk-9.5.0-cp311-cp311-manylinux2014_x86_64.manylinux_2_17_x86_64.whl (112.1 MB)\n",
            "\u001b[2K   \u001b[90m━━━━━━━━━━━━━━━━━━━━━━━━━━━━━━━━━━━━━━━━\u001b[0m \u001b[32m112.1/112.1 MB\u001b[0m \u001b[31m8.8 MB/s\u001b[0m eta \u001b[36m0:00:00\u001b[0m\n",
            "\u001b[?25hInstalling collected packages: vtk, vedo\n",
            "Successfully installed vedo-2025.5.4 vtk-9.5.0\n"
          ]
        }
      ]
    },
    {
      "cell_type": "code",
      "source": [
        "import nibabel as nib\n",
        "import numpy as np\n",
        "from skimage import measure\n",
        "from vedo import Plotter, Volume, Mesh\n",
        "\n",
        "def load_nifti_volume(path):\n",
        "    nii = nib.load(path)\n",
        "    data = nii.get_fdata()\n",
        "    spacing = nii.header.get_zooms()[:3]\n",
        "    return data, spacing\n",
        "\n",
        "def generate_mesh_from_mask(mask_volume, spacing, label=1):\n",
        "    # Extract mesh for a specific label using Marching Cubes\n",
        "    verts, faces, normals, _ = measure.marching_cubes(mask_volume == label, level=0.5, spacing=spacing)\n",
        "    mesh = Mesh([verts, faces])\n",
        "    mesh.c('cyan').alpha(0.5).lw(0.5)\n",
        "    return mesh\n",
        "\n",
        "def visualize_3d(image_path, mask_path, label=1):\n",
        "    print(\"Loading NIfTI volumes...\")\n",
        "    image_volume, spacing = load_nifti_volume(image_path)\n",
        "    mask_volume, _ = load_nifti_volume(mask_path)\n",
        "\n",
        "    print(\"Generating 3D mesh from mask...\")\n",
        "    mesh = generate_mesh_from_mask(mask_volume, spacing, label=label)\n",
        "\n",
        "    print(\"Launching interactive 3D viewer...\")\n",
        "    plt = Plotter(title=\"3D Heart Mesh (RV)\", axes=1, bg='black')\n",
        "    vol = Volume(image_volume, spacing=spacing).alpha([0,0,0,0.3]).c('gray')\n",
        "    plt.show(vol, mesh, interactive=True)\n",
        "\n",
        "# === Run with your files ===\n",
        "image_nii = \"/content/RVSC/Processed/P01/P01_image.nii.gz\"\n",
        "mask_nii  = \"/content/RVSC/Processed/P01/P01_mask_i.nii.gz\"  # 'i' for endocardium\n",
        "\n",
        "visualize_3d(image_nii, mask_nii, label=1)"
      ],
      "metadata": {
        "colab": {
          "base_uri": "https://localhost:8080/"
        },
        "id": "0UQrs45nZgpn",
        "outputId": "15ca5ca7-26b1-49aa-ebcd-9a122d586265"
      },
      "execution_count": null,
      "outputs": [
        {
          "output_type": "stream",
          "name": "stdout",
          "text": [
            "Loading NIfTI volumes...\n",
            "Generating 3D mesh from mask...\n",
            "Launching interactive 3D viewer...\n"
          ]
        },
        {
          "output_type": "stream",
          "name": "stderr",
          "text": [
            "\u001b[1m\u001b[33;20m[vedo.volume:246] WARNING: Volume.c() is deprecated, use Volume.cmap() instead\u001b[0m\n",
            "WARNING:vedo:Volume.c() is deprecated, use Volume.cmap() instead\n"
          ]
        }
      ]
    },
    {
      "cell_type": "code",
      "source": [
        "# Assuming image_nii and mask_nii are defined in a previous cell\n",
        "image_nii = \"/content/RVSC/Processed/P01/P01_image.nii.gz\"\n",
        "mask_nii  = \"/content/RVSC/Processed/P01/P01_mask_i.nii.gz\"  # 'i' for endocardium\n",
        "\n",
        "# Load the mask volume and spacing\n",
        "mask_volume, spacing = load_nifti_volume(mask_nii)\n",
        "\n",
        "# Generate the mesh\n",
        "mesh = generate_mesh_from_mask(mask_volume, spacing, label=1)\n",
        "\n",
        "# Save the mesh\n",
        "mesh.write(\"rv_mesh.ply\")  # Or \"rv_mesh.stl\""
      ],
      "metadata": {
        "id": "jvazeUWHZ1Gi"
      },
      "execution_count": null,
      "outputs": []
    }
  ]
}