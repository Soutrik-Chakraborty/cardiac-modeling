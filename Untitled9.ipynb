{
  "nbformat": 4,
  "nbformat_minor": 0,
  "metadata": {
    "colab": {
      "provenance": [],
      "gpuType": "T4",
      "authorship_tag": "ABX9TyN6EnVRsvB7ENnSdkEnNeAg",
      "include_colab_link": true
    },
    "kernelspec": {
      "name": "python3",
      "display_name": "Python 3"
    },
    "language_info": {
      "name": "python"
    },
    "accelerator": "GPU"
  },
  "cells": [
    {
      "cell_type": "markdown",
      "metadata": {
        "id": "view-in-github",
        "colab_type": "text"
      },
      "source": [
        "<a href=\"https://colab.research.google.com/github/Soutrik-Chakraborty/cardiac-modeling/blob/main/Untitled9.ipynb\" target=\"_parent\"><img src=\"https://colab.research.google.com/assets/colab-badge.svg\" alt=\"Open In Colab\"/></a>"
      ]
    },
    {
      "cell_type": "code",
      "metadata": {
        "colab": {
          "base_uri": "https://localhost:8080/"
        },
        "id": "23bb10f3",
        "outputId": "81b86b46-7522-4a38-ca96-56b0bef8be8c"
      },
      "source": [
        "%pip install pydicom"
      ],
      "execution_count": null,
      "outputs": [
        {
          "output_type": "stream",
          "name": "stdout",
          "text": [
            "Requirement already satisfied: pydicom in /usr/local/lib/python3.12/dist-packages (3.0.1)\n"
          ]
        }
      ]
    },
    {
      "cell_type": "code",
      "metadata": {
        "colab": {
          "base_uri": "https://localhost:8080/"
        },
        "id": "41b3cc5b",
        "outputId": "2fffea7a-3538-41e9-e94b-774bdbf99502"
      },
      "source": [
        "%pip install nibabel"
      ],
      "execution_count": null,
      "outputs": [
        {
          "output_type": "stream",
          "name": "stdout",
          "text": [
            "Requirement already satisfied: nibabel in /usr/local/lib/python3.12/dist-packages (5.3.2)\n",
            "Requirement already satisfied: numpy>=1.22 in /usr/local/lib/python3.12/dist-packages (from nibabel) (2.0.2)\n",
            "Requirement already satisfied: packaging>=20 in /usr/local/lib/python3.12/dist-packages (from nibabel) (25.0)\n",
            "Requirement already satisfied: typing-extensions>=4.6 in /usr/local/lib/python3.12/dist-packages (from nibabel) (4.15.0)\n"
          ]
        }
      ]
    },
    {
      "cell_type": "code",
      "metadata": {
        "colab": {
          "base_uri": "https://localhost:8080/"
        },
        "id": "5b47a9ae",
        "outputId": "4f8e6564-0dc2-4906-875d-df8dafe06b4f"
      },
      "source": [
        "%pip install vedo"
      ],
      "execution_count": null,
      "outputs": [
        {
          "output_type": "stream",
          "name": "stdout",
          "text": [
            "Requirement already satisfied: vedo in /usr/local/lib/python3.12/dist-packages (2025.5.4)\n",
            "Requirement already satisfied: vtk in /usr/local/lib/python3.12/dist-packages (from vedo) (9.5.1)\n",
            "Requirement already satisfied: numpy in /usr/local/lib/python3.12/dist-packages (from vedo) (2.0.2)\n",
            "Requirement already satisfied: typing-extensions in /usr/local/lib/python3.12/dist-packages (from vedo) (4.15.0)\n",
            "Requirement already satisfied: Pygments in /usr/local/lib/python3.12/dist-packages (from vedo) (2.19.2)\n",
            "Requirement already satisfied: matplotlib>=2.0.0 in /usr/local/lib/python3.12/dist-packages (from vtk->vedo) (3.10.0)\n",
            "Requirement already satisfied: contourpy>=1.0.1 in /usr/local/lib/python3.12/dist-packages (from matplotlib>=2.0.0->vtk->vedo) (1.3.3)\n",
            "Requirement already satisfied: cycler>=0.10 in /usr/local/lib/python3.12/dist-packages (from matplotlib>=2.0.0->vtk->vedo) (0.12.1)\n",
            "Requirement already satisfied: fonttools>=4.22.0 in /usr/local/lib/python3.12/dist-packages (from matplotlib>=2.0.0->vtk->vedo) (4.59.1)\n",
            "Requirement already satisfied: kiwisolver>=1.3.1 in /usr/local/lib/python3.12/dist-packages (from matplotlib>=2.0.0->vtk->vedo) (1.4.9)\n",
            "Requirement already satisfied: packaging>=20.0 in /usr/local/lib/python3.12/dist-packages (from matplotlib>=2.0.0->vtk->vedo) (25.0)\n",
            "Requirement already satisfied: pillow>=8 in /usr/local/lib/python3.12/dist-packages (from matplotlib>=2.0.0->vtk->vedo) (11.3.0)\n",
            "Requirement already satisfied: pyparsing>=2.3.1 in /usr/local/lib/python3.12/dist-packages (from matplotlib>=2.0.0->vtk->vedo) (3.2.3)\n",
            "Requirement already satisfied: python-dateutil>=2.7 in /usr/local/lib/python3.12/dist-packages (from matplotlib>=2.0.0->vtk->vedo) (2.9.0.post0)\n",
            "Requirement already satisfied: six>=1.5 in /usr/local/lib/python3.12/dist-packages (from python-dateutil>=2.7->matplotlib>=2.0.0->vtk->vedo) (1.17.0)\n"
          ]
        }
      ]
    },
    {
      "cell_type": "code",
      "metadata": {
        "colab": {
          "base_uri": "https://localhost:8080/"
        },
        "id": "a04bafc5",
        "outputId": "a379664f-4ea8-4dfd-e60a-0f2ddd974a09"
      },
      "source": [
        "%pip install scikit-image"
      ],
      "execution_count": null,
      "outputs": [
        {
          "output_type": "stream",
          "name": "stdout",
          "text": [
            "Requirement already satisfied: scikit-image in /usr/local/lib/python3.12/dist-packages (0.25.2)\n",
            "Requirement already satisfied: numpy>=1.24 in /usr/local/lib/python3.12/dist-packages (from scikit-image) (2.0.2)\n",
            "Requirement already satisfied: scipy>=1.11.4 in /usr/local/lib/python3.12/dist-packages (from scikit-image) (1.16.1)\n",
            "Requirement already satisfied: networkx>=3.0 in /usr/local/lib/python3.12/dist-packages (from scikit-image) (3.5)\n",
            "Requirement already satisfied: pillow>=10.1 in /usr/local/lib/python3.12/dist-packages (from scikit-image) (11.3.0)\n",
            "Requirement already satisfied: imageio!=2.35.0,>=2.33 in /usr/local/lib/python3.12/dist-packages (from scikit-image) (2.37.0)\n",
            "Requirement already satisfied: tifffile>=2022.8.12 in /usr/local/lib/python3.12/dist-packages (from scikit-image) (2025.6.11)\n",
            "Requirement already satisfied: packaging>=21 in /usr/local/lib/python3.12/dist-packages (from scikit-image) (25.0)\n",
            "Requirement already satisfied: lazy-loader>=0.4 in /usr/local/lib/python3.12/dist-packages (from scikit-image) (0.4)\n"
          ]
        }
      ]
    },
    {
      "cell_type": "code",
      "metadata": {
        "colab": {
          "base_uri": "https://localhost:8080/"
        },
        "id": "0fd91b85",
        "outputId": "a17f111a-b48c-4584-94ff-38cc03e65eaf"
      },
      "source": [
        "%pip install opencv-python"
      ],
      "execution_count": null,
      "outputs": [
        {
          "output_type": "stream",
          "name": "stdout",
          "text": [
            "Requirement already satisfied: opencv-python in /usr/local/lib/python3.12/dist-packages (4.12.0.88)\n",
            "Requirement already satisfied: numpy<2.3.0,>=2 in /usr/local/lib/python3.12/dist-packages (from opencv-python) (2.0.2)\n"
          ]
        }
      ]
    },
    {
      "cell_type": "code",
      "metadata": {
        "colab": {
          "base_uri": "https://localhost:8080/"
        },
        "id": "4be18726",
        "outputId": "14a24c71-f104-4f46-9332-9d774eb2dca4"
      },
      "source": [
        "%pip install matplotlib"
      ],
      "execution_count": null,
      "outputs": [
        {
          "output_type": "stream",
          "name": "stdout",
          "text": [
            "Requirement already satisfied: matplotlib in /usr/local/lib/python3.12/dist-packages (3.10.0)\n",
            "Requirement already satisfied: contourpy>=1.0.1 in /usr/local/lib/python3.12/dist-packages (from matplotlib) (1.3.3)\n",
            "Requirement already satisfied: cycler>=0.10 in /usr/local/lib/python3.12/dist-packages (from matplotlib) (0.12.1)\n",
            "Requirement already satisfied: fonttools>=4.22.0 in /usr/local/lib/python3.12/dist-packages (from matplotlib) (4.59.1)\n",
            "Requirement already satisfied: kiwisolver>=1.3.1 in /usr/local/lib/python3.12/dist-packages (from matplotlib) (1.4.9)\n",
            "Requirement already satisfied: numpy>=1.23 in /usr/local/lib/python3.12/dist-packages (from matplotlib) (2.0.2)\n",
            "Requirement already satisfied: packaging>=20.0 in /usr/local/lib/python3.12/dist-packages (from matplotlib) (25.0)\n",
            "Requirement already satisfied: pillow>=8 in /usr/local/lib/python3.12/dist-packages (from matplotlib) (11.3.0)\n",
            "Requirement already satisfied: pyparsing>=2.3.1 in /usr/local/lib/python3.12/dist-packages (from matplotlib) (3.2.3)\n",
            "Requirement already satisfied: python-dateutil>=2.7 in /usr/local/lib/python3.12/dist-packages (from matplotlib) (2.9.0.post0)\n",
            "Requirement already satisfied: six>=1.5 in /usr/local/lib/python3.12/dist-packages (from python-dateutil>=2.7->matplotlib) (1.17.0)\n"
          ]
        }
      ]
    },
    {
      "cell_type": "code",
      "metadata": {
        "colab": {
          "base_uri": "https://localhost:8080/"
        },
        "id": "c828d0f3",
        "outputId": "9546a9b5-1815-448f-8ad0-b48f4352a334"
      },
      "source": [
        "%pip install scipy"
      ],
      "execution_count": null,
      "outputs": [
        {
          "output_type": "stream",
          "name": "stdout",
          "text": [
            "Requirement already satisfied: scipy in /usr/local/lib/python3.12/dist-packages (1.16.1)\n",
            "Requirement already satisfied: numpy<2.6,>=1.25.2 in /usr/local/lib/python3.12/dist-packages (from scipy) (2.0.2)\n"
          ]
        }
      ]
    },
    {
      "cell_type": "code",
      "metadata": {
        "colab": {
          "base_uri": "https://localhost:8080/"
        },
        "id": "136f519f",
        "outputId": "f7ea7325-e4a1-49df-9660-fbb25a793c40"
      },
      "source": [
        "%pip install torch torchvision torchaudio"
      ],
      "execution_count": null,
      "outputs": [
        {
          "output_type": "stream",
          "name": "stdout",
          "text": [
            "Requirement already satisfied: torch in /usr/local/lib/python3.12/dist-packages (2.8.0+cu126)\n",
            "Requirement already satisfied: torchvision in /usr/local/lib/python3.12/dist-packages (0.23.0+cu126)\n",
            "Requirement already satisfied: torchaudio in /usr/local/lib/python3.12/dist-packages (2.8.0+cu126)\n",
            "Requirement already satisfied: filelock in /usr/local/lib/python3.12/dist-packages (from torch) (3.19.1)\n",
            "Requirement already satisfied: typing-extensions>=4.10.0 in /usr/local/lib/python3.12/dist-packages (from torch) (4.15.0)\n",
            "Requirement already satisfied: setuptools in /usr/local/lib/python3.12/dist-packages (from torch) (75.2.0)\n",
            "Requirement already satisfied: sympy>=1.13.3 in /usr/local/lib/python3.12/dist-packages (from torch) (1.13.3)\n",
            "Requirement already satisfied: networkx in /usr/local/lib/python3.12/dist-packages (from torch) (3.5)\n",
            "Requirement already satisfied: jinja2 in /usr/local/lib/python3.12/dist-packages (from torch) (3.1.6)\n",
            "Requirement already satisfied: fsspec in /usr/local/lib/python3.12/dist-packages (from torch) (2025.3.0)\n",
            "Requirement already satisfied: nvidia-cuda-nvrtc-cu12==12.6.77 in /usr/local/lib/python3.12/dist-packages (from torch) (12.6.77)\n",
            "Requirement already satisfied: nvidia-cuda-runtime-cu12==12.6.77 in /usr/local/lib/python3.12/dist-packages (from torch) (12.6.77)\n",
            "Requirement already satisfied: nvidia-cuda-cupti-cu12==12.6.80 in /usr/local/lib/python3.12/dist-packages (from torch) (12.6.80)\n",
            "Requirement already satisfied: nvidia-cudnn-cu12==9.10.2.21 in /usr/local/lib/python3.12/dist-packages (from torch) (9.10.2.21)\n",
            "Requirement already satisfied: nvidia-cublas-cu12==12.6.4.1 in /usr/local/lib/python3.12/dist-packages (from torch) (12.6.4.1)\n",
            "Requirement already satisfied: nvidia-cufft-cu12==11.3.0.4 in /usr/local/lib/python3.12/dist-packages (from torch) (11.3.0.4)\n",
            "Requirement already satisfied: nvidia-curand-cu12==10.3.7.77 in /usr/local/lib/python3.12/dist-packages (from torch) (10.3.7.77)\n",
            "Requirement already satisfied: nvidia-cusolver-cu12==11.7.1.2 in /usr/local/lib/python3.12/dist-packages (from torch) (11.7.1.2)\n",
            "Requirement already satisfied: nvidia-cusparse-cu12==12.5.4.2 in /usr/local/lib/python3.12/dist-packages (from torch) (12.5.4.2)\n",
            "Requirement already satisfied: nvidia-cusparselt-cu12==0.7.1 in /usr/local/lib/python3.12/dist-packages (from torch) (0.7.1)\n",
            "Requirement already satisfied: nvidia-nccl-cu12==2.27.3 in /usr/local/lib/python3.12/dist-packages (from torch) (2.27.3)\n",
            "Requirement already satisfied: nvidia-nvtx-cu12==12.6.77 in /usr/local/lib/python3.12/dist-packages (from torch) (12.6.77)\n",
            "Requirement already satisfied: nvidia-nvjitlink-cu12==12.6.85 in /usr/local/lib/python3.12/dist-packages (from torch) (12.6.85)\n",
            "Requirement already satisfied: nvidia-cufile-cu12==1.11.1.6 in /usr/local/lib/python3.12/dist-packages (from torch) (1.11.1.6)\n",
            "Requirement already satisfied: triton==3.4.0 in /usr/local/lib/python3.12/dist-packages (from torch) (3.4.0)\n",
            "Requirement already satisfied: numpy in /usr/local/lib/python3.12/dist-packages (from torchvision) (2.0.2)\n",
            "Requirement already satisfied: pillow!=8.3.*,>=5.3.0 in /usr/local/lib/python3.12/dist-packages (from torchvision) (11.3.0)\n",
            "Requirement already satisfied: mpmath<1.4,>=1.1.0 in /usr/local/lib/python3.12/dist-packages (from sympy>=1.13.3->torch) (1.3.0)\n",
            "Requirement already satisfied: MarkupSafe>=2.0 in /usr/local/lib/python3.12/dist-packages (from jinja2->torch) (3.0.2)\n"
          ]
        }
      ]
    },
    {
      "cell_type": "code",
      "metadata": {
        "colab": {
          "base_uri": "https://localhost:8080/"
        },
        "id": "be590716",
        "outputId": "f048f868-ec5a-4793-f789-bc3136b66a49"
      },
      "source": [
        "%pip install numpy"
      ],
      "execution_count": null,
      "outputs": [
        {
          "output_type": "stream",
          "name": "stdout",
          "text": [
            "Requirement already satisfied: numpy in /usr/local/lib/python3.12/dist-packages (2.0.2)\n"
          ]
        }
      ]
    },
    {
      "cell_type": "code",
      "metadata": {
        "colab": {
          "base_uri": "https://localhost:8080/"
        },
        "id": "eb904e46",
        "outputId": "58aba7a7-ec53-4d40-9a75-beac1fa469c9"
      },
      "source": [
        "%pip install glob2"
      ],
      "execution_count": null,
      "outputs": [
        {
          "output_type": "stream",
          "name": "stdout",
          "text": [
            "Requirement already satisfied: glob2 in /usr/local/lib/python3.12/dist-packages (0.7)\n"
          ]
        }
      ]
    },
    {
      "cell_type": "code",
      "metadata": {
        "colab": {
          "base_uri": "https://localhost:8080/"
        },
        "id": "8d2f6c4b",
        "outputId": "9e6e38d3-1ed0-4f92-8650-9dc74a9754b7"
      },
      "source": [
        "%pip install shutil"
      ],
      "execution_count": null,
      "outputs": [
        {
          "output_type": "stream",
          "name": "stdout",
          "text": [
            "\u001b[31mERROR: Could not find a version that satisfies the requirement shutil (from versions: none)\u001b[0m\u001b[31m\n",
            "\u001b[0m\u001b[31mERROR: No matching distribution found for shutil\u001b[0m\u001b[31m\n",
            "\u001b[0m"
          ]
        }
      ]
    },
    {
      "cell_type": "code",
      "metadata": {
        "colab": {
          "base_uri": "https://localhost:8080/"
        },
        "id": "b40405e5",
        "outputId": "62681394-ba24-4f79-deb0-ab591a3d19a6"
      },
      "source": [
        "%pip install zipfile36"
      ],
      "execution_count": null,
      "outputs": [
        {
          "output_type": "stream",
          "name": "stdout",
          "text": [
            "Requirement already satisfied: zipfile36 in /usr/local/lib/python3.12/dist-packages (0.1.3)\n"
          ]
        }
      ]
    },
    {
      "cell_type": "code",
      "metadata": {
        "colab": {
          "base_uri": "https://localhost:8080/"
        },
        "id": "7e77563c",
        "outputId": "4b3de3d8-002b-489f-c5e3-e488bd442468"
      },
      "source": [
        "%pip install os-sys"
      ],
      "execution_count": null,
      "outputs": [
        {
          "output_type": "stream",
          "name": "stdout",
          "text": [
            "Collecting os-sys\n",
            "  Using cached os_sys-2.1.4-py3-none-any.whl.metadata (9.9 kB)\n",
            "Collecting pygubu (from os-sys)\n",
            "  Using cached pygubu-0.38.2-py3-none-any.whl.metadata (7.3 kB)\n",
            "Requirement already satisfied: pytz in /usr/local/lib/python3.12/dist-packages (from os-sys) (2025.2)\n",
            "Requirement already satisfied: sqlparse in /usr/local/lib/python3.12/dist-packages (from os-sys) (0.5.3)\n",
            "Collecting progress (from os-sys)\n",
            "  Using cached progress-1.6.1-py3-none-any.whl.metadata (4.3 kB)\n",
            "Requirement already satisfied: tqdm in /usr/local/lib/python3.12/dist-packages (from os-sys) (4.67.1)\n",
            "Collecting progressbar (from os-sys)\n",
            "  Using cached progressbar-2.5.tar.gz (10 kB)\n",
            "  Preparing metadata (setup.py) ... \u001b[?25l\u001b[?25hdone\n",
            "Requirement already satisfied: matplotlib in /usr/local/lib/python3.12/dist-packages (from os-sys) (3.10.0)\n",
            "Requirement already satisfied: numpy in /usr/local/lib/python3.12/dist-packages (from os-sys) (2.0.2)\n",
            "Requirement already satisfied: six in /usr/local/lib/python3.12/dist-packages (from os-sys) (1.17.0)\n",
            "Collecting jupyter (from os-sys)\n",
            "  Using cached jupyter-1.1.1-py2.py3-none-any.whl.metadata (2.0 kB)\n",
            "Requirement already satisfied: pandas in /usr/local/lib/python3.12/dist-packages (from os-sys) (2.2.2)\n",
            "Requirement already satisfied: beautifulsoup4 in /usr/local/lib/python3.12/dist-packages (from os-sys) (4.13.5)\n",
            "Collecting Eel (from os-sys)\n",
            "  Using cached eel-0.18.2.tar.gz (26 kB)\n",
            "  Preparing metadata (setup.py) ... \u001b[?25l\u001b[?25hdone\n",
            "Collecting extract-zip (from os-sys)\n",
            "  Using cached extract_zip-1.0.0-py3-none-any.whl.metadata (403 bytes)\n",
            "INFO: pip is looking at multiple versions of os-sys to determine which version is compatible with other requirements. This could take a while.\n",
            "Collecting os-sys\n",
            "  Using cached os_sys-2.1.3-py3-none-any.whl.metadata (9.9 kB)\n",
            "  Using cached os_sys-2.1.2-py3-none-any.whl.metadata (9.9 kB)\n",
            "  Using cached os_sys-2.1.1-py3-none-any.whl.metadata (9.9 kB)\n",
            "  Using cached os_sys-2.1.0-py3-none-any.whl.metadata (9.9 kB)\n",
            "  Using cached os_sys-2.0.9-py3-none-any.whl.metadata (9.9 kB)\n",
            "  Using cached os_sys-2.0.8-py3-none-any.whl.metadata (9.9 kB)\n",
            "  Using cached os_sys-2.0.7-py3-none-any.whl.metadata (9.9 kB)\n",
            "INFO: pip is still looking at multiple versions of os-sys to determine which version is compatible with other requirements. This could take a while.\n",
            "  Using cached os_sys-2.0.6-py3-none-any.whl.metadata (9.5 kB)\n",
            "  Using cached os_sys-2.0.5-py3-none-any.whl.metadata (9.5 kB)\n",
            "  Using cached os_sys-2.0.4-py3-none-any.whl.metadata (9.5 kB)\n",
            "Collecting webview (from os-sys)\n",
            "  Using cached webview-0.1.5.tar.gz (18 kB)\n",
            "  \u001b[1;31merror\u001b[0m: \u001b[1msubprocess-exited-with-error\u001b[0m\n",
            "  \n",
            "  \u001b[31m×\u001b[0m \u001b[32mpython setup.py egg_info\u001b[0m did not run successfully.\n",
            "  \u001b[31m│\u001b[0m exit code: \u001b[1;36m1\u001b[0m\n",
            "  \u001b[31m╰─>\u001b[0m See above for output.\n",
            "  \n",
            "  \u001b[1;35mnote\u001b[0m: This error originates from a subprocess, and is likely not a problem with pip.\n",
            "  Preparing metadata (setup.py) ... \u001b[?25l\u001b[?25herror\n",
            "\u001b[1;31merror\u001b[0m: \u001b[1mmetadata-generation-failed\u001b[0m\n",
            "\n",
            "\u001b[31m×\u001b[0m Encountered error while generating package metadata.\n",
            "\u001b[31m╰─>\u001b[0m See above for output.\n",
            "\n",
            "\u001b[1;35mnote\u001b[0m: This is an issue with the package mentioned above, not pip.\n",
            "\u001b[1;36mhint\u001b[0m: See above for details.\n"
          ]
        }
      ]
    },
    {
      "cell_type": "code",
      "source": [
        "%pip install gdown"
      ],
      "metadata": {
        "colab": {
          "base_uri": "https://localhost:8080/"
        },
        "id": "bEPvixGawdhi",
        "outputId": "4f7e4e36-5944-4447-dfe5-64433232c9b1"
      },
      "execution_count": null,
      "outputs": [
        {
          "output_type": "stream",
          "name": "stdout",
          "text": [
            "Requirement already satisfied: gdown in /usr/local/lib/python3.12/dist-packages (5.2.0)\n",
            "Requirement already satisfied: beautifulsoup4 in /usr/local/lib/python3.12/dist-packages (from gdown) (4.13.5)\n",
            "Requirement already satisfied: filelock in /usr/local/lib/python3.12/dist-packages (from gdown) (3.19.1)\n",
            "Requirement already satisfied: requests[socks] in /usr/local/lib/python3.12/dist-packages (from gdown) (2.32.4)\n",
            "Requirement already satisfied: tqdm in /usr/local/lib/python3.12/dist-packages (from gdown) (4.67.1)\n",
            "Requirement already satisfied: soupsieve>1.2 in /usr/local/lib/python3.12/dist-packages (from beautifulsoup4->gdown) (2.7)\n",
            "Requirement already satisfied: typing-extensions>=4.0.0 in /usr/local/lib/python3.12/dist-packages (from beautifulsoup4->gdown) (4.15.0)\n",
            "Requirement already satisfied: charset_normalizer<4,>=2 in /usr/local/lib/python3.12/dist-packages (from requests[socks]->gdown) (3.4.3)\n",
            "Requirement already satisfied: idna<4,>=2.5 in /usr/local/lib/python3.12/dist-packages (from requests[socks]->gdown) (3.10)\n",
            "Requirement already satisfied: urllib3<3,>=1.21.1 in /usr/local/lib/python3.12/dist-packages (from requests[socks]->gdown) (2.5.0)\n",
            "Requirement already satisfied: certifi>=2017.4.17 in /usr/local/lib/python3.12/dist-packages (from requests[socks]->gdown) (2025.8.3)\n",
            "Requirement already satisfied: PySocks!=1.5.7,>=1.5.6 in /usr/local/lib/python3.12/dist-packages (from requests[socks]->gdown) (1.7.1)\n"
          ]
        }
      ]
    },
    {
      "cell_type": "code",
      "source": [
        "import os\n",
        "import zipfile\n",
        "import glob\n",
        "import shutil\n",
        "import numpy as np\n",
        "import pydicom\n",
        "import nibabel as nib\n",
        "import cv2\n",
        "import torch\n",
        "import torch.nn as nn\n",
        "from torch.utils.data import Dataset, DataLoader\n",
        "from scipy.ndimage import zoom\n",
        "from skimage import measure\n",
        "from vedo import Plotter, Mesh\n",
        "import matplotlib.pyplot as plt\n",
        "import gdown"
      ],
      "metadata": {
        "id": "RAlWnVMfvDYB"
      },
      "execution_count": null,
      "outputs": []
    },
    {
      "cell_type": "code",
      "source": [
        "def download_and_unzip_rvsc(gdrive_url, output_zip_path, extract_to):\n",
        "    \"\"\"Downloads and unzips the RVSC dataset.\"\"\"\n",
        "    # Remove existing corrupted zip file and extracted directory for a clean start\n",
        "    if os.path.exists(output_zip_path):\n",
        "        print(f\"🗑️ Removing existing zip file: {output_zip_path}\")\n",
        "        os.remove(output_zip_path)\n",
        "    if os.path.exists(os.path.join(extract_to, \"RVSC\")):\n",
        "        print(f\"🗑️ Removing existing extracted directory: {os.path.join(extract_to, 'RVSC')}\")\n",
        "        shutil.rmtree(os.path.join(extract_to, \"RVSC\"))\n",
        "\n",
        "    if not os.path.exists(output_zip_path):\n",
        "        print(\"📥 Downloading RVSC dataset...\")\n",
        "        gdown.download(url=gdrive_url, output=output_zip_path, quiet=False)\n",
        "    else:\n",
        "        print(\"✅ Dataset already downloaded.\")\n",
        "\n",
        "    if not os.path.exists(os.path.join(extract_to, \"RVSC\")):\n",
        "        print(\"📦 Extracting dataset...\")\n",
        "        os.makedirs(extract_to, exist_ok=True)\n",
        "        with zipfile.ZipFile(output_zip_path, 'r') as zip_ref:\n",
        "            zip_ref.extractall(extract_to)\n",
        "        print(\"✅ Dataset extracted.\")\n",
        "    else:\n",
        "        print(\"✅ Dataset already extracted.\")"
      ],
      "metadata": {
        "id": "4QCOak7FvOFK"
      },
      "execution_count": null,
      "outputs": []
    },
    {
      "cell_type": "code",
      "source": [
        "def load_dicom_series(dicom_folder):\n",
        "    \"\"\"Loads a series of DICOM files from a folder.\"\"\"\n",
        "    slices = []\n",
        "    for fname in sorted(os.listdir(dicom_folder)):\n",
        "        if fname.endswith(\".dcm\"):\n",
        "            path = os.path.join(dicom_folder, fname)\n",
        "            dcm = pydicom.dcmread(path)\n",
        "            slices.append((dcm, int(fname.split('-')[1].split('.')[0])))\n",
        "    slices.sort(key=lambda x: x[1])\n",
        "    images = np.stack([s.pixel_array for s, _ in slices])\n",
        "    spacing = float(slices[0][0].PixelSpacing[0])\n",
        "\n",
        "    thickness = 0.0\n",
        "    if len(slices) > 1 and hasattr(slices[0][0], 'SliceLocation') and hasattr(slices[1][0], 'SliceLocation'):\n",
        "        thickness = abs(slices[1][0].SliceLocation - slices[0][0].SliceLocation)\n",
        "    if thickness == 0.0:\n",
        "        thickness = float(slices[0][0].SliceThickness) if hasattr(slices[0][0], 'SliceThickness') else 1.0\n",
        "\n",
        "    return images, spacing, thickness, [s[1] for s in slices]\n",
        "\n",
        "def load_contour_file(file_path):\n",
        "    \"\"\"Loads contour data from a text file.\"\"\"\n",
        "    with open(file_path, \"r\") as f:\n",
        "        coords = [list(map(float, line.strip().split())) for line in f if line.strip()]\n",
        "    return np.array(coords, dtype=np.int32) if coords else np.array([], dtype=np.int32)\n",
        "\n",
        "def create_mask(image_shape, contour):\n",
        "    \"\"\"Creates a binary mask from contour data.\"\"\"\n",
        "    mask = np.zeros(image_shape, dtype=np.uint8)\n",
        "    if contour.size > 0:\n",
        "        cv2.fillPoly(mask, [contour.reshape((-1, 1, 2)).astype(np.int32)], color=1)\n",
        "    return mask\n",
        "\n",
        "def contours_to_mask(contour_folder, dicom_numbers, image_shape, label='i'):\n",
        "    \"\"\"Converts a folder of contours to a 3D mask volume.\"\"\"\n",
        "    mask_volume = np.zeros((len(dicom_numbers), *image_shape), dtype=np.uint8)\n",
        "    for idx, num in enumerate(dicom_numbers):\n",
        "        files = glob.glob(os.path.join(contour_folder, f\"*{num:04d}*{label}contour-manual.txt\"))\n",
        "        if files:\n",
        "            mask_volume[idx] = create_mask(image_shape, load_contour_file(files[0]))\n",
        "    return mask_volume\n",
        "\n",
        "def save_as_nifti(volume, output_path, spacing, slice_thickness):\n",
        "    \"\"\"Saves a 3D numpy array as a NIfTI file.\"\"\"\n",
        "    affine = np.diag([spacing, spacing, slice_thickness, 1])\n",
        "    nib.save(nib.Nifti1Image(volume.astype(np.int16), affine), output_path)\n",
        "\n",
        "def convert_all_patients_to_nifti(input_root, output_root):\n",
        "    \"\"\"Main function to convert all patient data to NIfTI format.\"\"\"\n",
        "    os.makedirs(output_root, exist_ok=True)\n",
        "    patient_dirs = sorted([d for d in os.listdir(input_root) if d.startswith(\"patient\")])\n",
        "    for patient in patient_dirs:\n",
        "        try:\n",
        "            p_path = os.path.join(input_root, patient)\n",
        "            p_num = patient.replace(\"patient\", \"\")\n",
        "            dicom_folder = os.path.join(p_path, f\"P{p_num}dicom\")\n",
        "            contour_folder = os.path.join(p_path, f\"P{p_num}contours-manual\")\n",
        "            output_dir = os.path.join(output_root, f\"P{p_num}\")\n",
        "            os.makedirs(output_dir, exist_ok=True)\n",
        "\n",
        "            img, spc, thk, nums = load_dicom_series(dicom_folder)\n",
        "            msk = contours_to_mask(contour_folder, nums, img.shape[1:], label='i')\n",
        "\n",
        "            #save_as_nifti(img, os.path.join(output_dir, \"image.nii.gz\"), spc, thk)\n",
        "            #save_as_nifti(msk, os.path.join(output_dir, \"mask.nii.gz\"), spc, thk)\n",
        "            # MODIFIED: Saving as .nii instead of .nii.gz\n",
        "            save_as_nifti(img, os.path.join(output_dir, \"image.nii\"), spc, thk)\n",
        "            save_as_nifti(msk, os.path.join(output_dir, \"mask.nii\"), spc, thk)\n",
        "            print(f\"✅ Successfully converted {patient} to NIfTI.\")\n",
        "        except Exception as e:\n",
        "            print(f\"❌ Error processing {patient}: {e}\")"
      ],
      "metadata": {
        "id": "XnDb4CkOvTyz"
      },
      "execution_count": null,
      "outputs": []
    },
    {
      "cell_type": "code",
      "source": [
        "class HVSMR3DDataset(Dataset):\n",
        "    \"\"\"PyTorch Dataset for loading 3D medical images.\"\"\"\n",
        "    def __init__(self, images_dir, masks_dir):\n",
        "        print(f\"Attempting to find images in: {images_dir}\")\n",
        "        self.images = sorted(glob.glob(os.path.join(images_dir, \"*_image.nii\")))\n",
        "        print(f\"Found {len(self.images)} image files.\")\n",
        "        print(f\"Attempting to find masks in: {masks_dir}\")\n",
        "        self.masks = sorted(glob.glob(os.path.join(masks_dir, \"*_mask.nii\")))\n",
        "        print(f\"Found {len(self.masks)} mask files.\")\n",
        "        if not self.images:\n",
        "            print(f\"⚠️ Warning: No image files found in {images_dir}\")\n",
        "        if not self.masks:\n",
        "            print(f\"⚠️ Warning: No mask files found in {masks_dir}\")\n",
        "\n",
        "\n",
        "    def __len__(self):\n",
        "        return len(self.images)\n",
        "\n",
        "    def __getitem__(self, idx):\n",
        "        img = nib.load(self.images[idx]).get_fdata().astype(np.float32)\n",
        "        msk = nib.load(self.masks[idx]).get_fdata().astype(np.int64)\n",
        "\n",
        "        target_shape = (128, 128, 128)\n",
        "        img = zoom(img, np.array(target_shape) / img.shape, order=1)\n",
        "        msk = zoom(msk, np.array(target_shape) / msk.shape, order=0)\n",
        "\n",
        "        img = (img - img.mean()) / (img.std() + 1e-8)\n",
        "\n",
        "        return torch.from_numpy(img).unsqueeze(0), torch.from_numpy(msk)\n",
        "\n",
        "class DoubleConv(nn.Module):\n",
        "    \"\"\"Helper module for the U-Net: (convolution => BN => ReLU) * 2\"\"\"\n",
        "    def __init__(self, in_channels, out_channels):\n",
        "        super().__init__()\n",
        "        self.double_conv = nn.Sequential(\n",
        "            nn.Conv3d(in_channels, out_channels, kernel_size=3, padding=1, bias=False),\n",
        "            nn.BatchNorm3d(out_channels),\n",
        "            nn.ReLU(inplace=True),\n",
        "            nn.Conv3d(out_channels, out_channels, kernel_size=3, padding=1, bias=False),\n",
        "            nn.BatchNorm3d(out_channels),\n",
        "            nn.ReLU(inplace=True)\n",
        "        )\n",
        "    def forward(self, x):\n",
        "        return self.double_conv(x)\n",
        "\n",
        "class UNet3D(nn.Module):\n",
        "    \"\"\"A standard 3D U-Net with skip connections.\"\"\"\n",
        "    def __init__(self, in_channels=1, out_channels=2):\n",
        "        super(UNet3D, self).__init__()\n",
        "        self.inc = DoubleConv(in_channels, 64)\n",
        "        self.down1 = nn.Sequential(nn.MaxPool3d(2), DoubleConv(64, 128))\n",
        "        self.down2 = nn.Sequential(nn.MaxPool3d(2), DoubleConv(128, 256))\n",
        "        self.up1 = nn.Upsample(scale_factor=2, mode='trilinear', align_corners=True)\n",
        "        self.conv1 = DoubleConv(256 + 128, 128)\n",
        "        self.up2 = nn.Upsample(scale_factor=2, mode='trilinear', align_corners=True)\n",
        "        self.conv2 = DoubleConv(128 + 64, 64)\n",
        "        self.outc = nn.Conv3d(64, out_channels, kernel_size=1)\n",
        "\n",
        "    def forward(self, x):\n",
        "        x1 = self.inc(x)\n",
        "        x2 = self.down1(x1)\n",
        "        x3 = self.down2(x2)\n",
        "        x = self.up1(x3)\n",
        "        x = torch.cat([x, x2], dim=1)\n",
        "        x = self.conv1(x)\n",
        "        x = self.up2(x)\n",
        "        x = torch.cat([x, x1], dim=1)\n",
        "        x = self.conv2(x)\n",
        "        return self.outc(x)\n",
        "\n",
        "def calculate_dice_score(pred, target):\n",
        "    \"\"\"Calculates the DICE score for segmentation evaluation.\"\"\"\n",
        "    pred = torch.argmax(pred, dim=1)\n",
        "    dice = 0.0\n",
        "    for i in range(1, pred.shape[0]): # Exclude background\n",
        "        intersection = ((pred == i) & (target == i)).sum().float()\n",
        "        union = (pred == i).sum().float() + (target == i).sum().float()\n",
        "        dice += (2. * intersection) / (union + 1e-8)\n",
        "    return dice / (pred.shape[0] - 1) if pred.shape[0] > 1 else dice\n",
        "\n",
        "def train_model(nifti_root):\n",
        "    \"\"\"Main training loop for the 3D U-Net.\"\"\"\n",
        "    # Organize dataset into training folders\n",
        "    train_images_dir = os.path.join(nifti_root, \"train\", \"images\")\n",
        "    train_masks_dir = os.path.join(nifti_root, \"train\", \"masks\")\n",
        "    os.makedirs(train_images_dir, exist_ok=True)\n",
        "    os.makedirs(train_masks_dir, exist_ok=True)\n",
        "\n",
        "    for patient_folder in glob.glob(os.path.join(nifti_root, \"P*\")):\n",
        "        p_num = os.path.basename(patient_folder)\n",
        "        image_src = os.path.join(patient_folder, \"image.nii\")\n",
        "        mask_src = os.path.join(patient_folder, \"mask.nii\")\n",
        "        print(f\"Checking for files in {patient_folder}...\")\n",
        "        print(f\"Image source: {image_src}, exists: {os.path.exists(image_src)}\")\n",
        "        print(f\"Mask source: {mask_src}, exists: {os.path.exists(mask_src)}\")\n",
        "\n",
        "        if os.path.exists(image_src) and os.path.exists(mask_src):\n",
        "            print(f\"Copying files for {p_num}...\")\n",
        "            shutil.copy(image_src, os.path.join(train_images_dir, f\"{p_num}_image.nii\"))\n",
        "            shutil.copy(mask_src, os.path.join(train_masks_dir, f\"{p_num}_mask.nii\"))\n",
        "            print(f\"Copied files for {p_num}.\")\n",
        "        else:\n",
        "            print(f\"⚠️ Warning: Image or mask not found for {p_num} at {image_src} or {mask_src}\")\n",
        "\n",
        "    # Add checks after copying\n",
        "    print(f\"Contents of {train_images_dir}: {os.listdir(train_images_dir)}\")\n",
        "    print(f\"Contents of {train_masks_dir}: {os.listdir(train_masks_dir)}\")\n",
        "    copied_images = glob.glob(os.path.join(train_images_dir, \"*_image.nii\"))\n",
        "    copied_masks = glob.glob(os.path.join(train_masks_dir, \"*_mask.nii\"))\n",
        "\n",
        "    print(f\"glob.glob found {len(copied_images)} image files with pattern *_image.nii\")\n",
        "    print(f\"glob.glob found {len(copied_masks)} mask files with pattern *_mask.nii\")\n",
        "\n",
        "    if not copied_images:\n",
        "        print(f\"❌ Error: No NIfTI image files were found by glob in {train_images_dir}\")\n",
        "    if not copied_masks:\n",
        "        print(f\"❌ Error: No NIfTI mask files were found by glob in {train_masks_dir}\")\n",
        "\n",
        "\n",
        "    dataset = HVSMR3DDataset(train_images_dir, train_masks_dir)\n",
        "    print(f\"Dataset length after initialization: {len(dataset)}\") # Added print\n",
        "\n",
        "    if not dataset.images: # Modified check\n",
        "        raise ValueError(\"Dataset is empty. No NIfTI files found in training directories.\")\n",
        "\n",
        "    dataloader = DataLoader(dataset, batch_size=1, shuffle=True)\n",
        "\n",
        "    device = torch.device(\"cuda\" if torch.cuda.is_available() else \"cpu\")\n",
        "    model = UNet3D().to(device)\n",
        "    optimizer = torch.optim.Adam(model.parameters(), lr=1e-4)\n",
        "    criterion = nn.CrossEntropyLoss()\n",
        "\n",
        "    history = {'loss': [], 'dice': []}\n",
        "    num_epochs = 50\n",
        "\n",
        "    print(f\"🚀 Starting training on {device}...\")\n",
        "    for epoch in range(num_epochs):\n",
        "        model.train()\n",
        "        epoch_loss, epoch_dice = 0.0, 0.0\n",
        "        for images, masks in dataloader:\n",
        "            images, masks = images.to(device), masks.to(device)\n",
        "            optimizer.zero_grad()\n",
        "            outputs = model(images)\n",
        "            loss = criterion(outputs, masks)\n",
        "            loss.backward()\n",
        "            optimizer.step()\n",
        "\n",
        "            epoch_loss += loss.item()\n",
        "            epoch_dice += calculate_dice_score(outputs.detach(), masks) # Removed .item()\n",
        "\n",
        "        avg_loss = epoch_loss / len(dataloader)\n",
        "        avg_dice = epoch_dice / len(dataloader)\n",
        "        history['loss'].append(avg_loss)\n",
        "        history['dice'].append(avg_dice)\n",
        "        print(f\"Epoch {epoch+1}/{num_epochs} - Loss: {avg_loss:.4f}, DICE: {avg_dice:.4f}\")\n",
        "\n",
        "    # Plotting\n",
        "    plt.figure(figsize=(12, 5))\n",
        "    plt.subplot(1, 2, 1)\n",
        "    plt.plot(history['loss'], label='Loss')\n",
        "    plt.title('Training Loss')\n",
        "    plt.xlabel('Epoch')\n",
        "    plt.ylabel('Loss')\n",
        "    plt.grid(True)\n",
        "\n",
        "    plt.subplot(1, 2, 2)\n",
        "    plt.plot(history['dice'], label='DICE Score')\n",
        "    plt.title('Training DICE Score')\n",
        "    plt.xlabel('Epoch')\n",
        "    plt.ylabel('DICE')\n",
        "    plt.grid(True)\n",
        "\n",
        "    plt.tight_layout()\n",
        "    plt.show()\n",
        "\n",
        "    return model"
      ],
      "metadata": {
        "id": "UTF_mnIuvbFb"
      },
      "execution_count": null,
      "outputs": []
    },
    {
      "cell_type": "code",
      "source": [
        "def generate_3d_mesh_from_prediction(model, image_path, save_path=\"predicted_heart.ply\"):\n",
        "    \"\"\"Generates and visualizes a 3D mesh from a model's prediction.\"\"\"\n",
        "    device = torch.device(\"cuda\" if torch.cuda.is_available() else \"cpu\")\n",
        "    model.to(device)\n",
        "    model.eval()\n",
        "\n",
        "    img = nib.load(image_path).get_fdata().astype(np.float32)\n",
        "    original_shape = img.shape\n",
        "\n",
        "    target_shape = (128, 128, 128)\n",
        "    img_resized = zoom(img, np.array(target_shape) / original_shape, order=1)\n",
        "    img_normalized = (img_resized - img_resized.mean()) / (img_resized.std() + 1e-8)\n",
        "\n",
        "    img_tensor = torch.from_numpy(img_normalized).unsqueeze(0).unsqueeze(0).to(device)\n",
        "\n",
        "    with torch.no_grad():\n",
        "        output = model(img_tensor)\n",
        "        pred_mask_resized = torch.argmax(output, dim=1).squeeze(0).cpu().numpy()\n",
        "\n",
        "    # Resize mask back to original image size\n",
        "    pred_mask = zoom(pred_mask_resized, np.array(original_shape) / target_shape, order=0)\n",
        "\n",
        "    print(f\"Prediction contains labels: {np.unique(pred_mask)}\")\n",
        "    if 1 not in np.unique(pred_mask):\n",
        "        print(\"⚠️ Warning: Target label 1 not found in prediction. Cannot generate mesh.\")\n",
        "        return\n",
        "\n",
        "    verts, faces, _, _ = measure.marching_cubes(pred_mask, level=0.5)\n",
        "\n",
        "    mesh = Mesh([verts, faces]).c(\"red\").alpha(0.8)\n",
        "    mesh.write(save_path)\n",
        "    print(f\"💾 3D mesh saved to {save_path}\")\n",
        "\n",
        "    plt = Plotter(title=\"3D Reconstructed Heart\", axes=1)\n",
        "    plt.show(mesh, \"Reconstructed Heart\")"
      ],
      "metadata": {
        "id": "wRc5yPyHvldC"
      },
      "execution_count": null,
      "outputs": []
    },
    {
      "cell_type": "code",
      "source": [
        "if __name__ == '__main__':\n",
        "    # --- Configuration ---\n",
        "    #GDRIVE_URL = \"https://drive.google.com/uc?id=1h9Y54Gu7sc4yP6j_V77L5JznL7JVaGtH\"\n",
        "    # MODIFIED: Using the correct direct download URL from the gdown warning\n",
        "    GDRIVE_URL = \"https://drive.google.com/uc?id=1l_QXBRGHrfA24CAo04gYgciy2sCNhnF5\"\n",
        "    ZIP_PATH = \"/content/RVSC.zip\"\n",
        "    EXTRACT_DIR = \"/content/RVSC_unzipped_new\"\n",
        "    NIFTI_DIR = \"/content/nifti_output\"\n",
        "\n",
        "    # --- Run Pipeline ---\n",
        "    download_and_unzip_rvsc(GDRIVE_URL, ZIP_PATH, EXTRACT_DIR)\n",
        "\n",
        "    # Check if conversion is already done\n",
        "    if not os.path.exists(os.path.join(NIFTI_DIR, \"P01\")): # Check for a sample folder\n",
        "        convert_all_patients_to_nifti(\n",
        "            input_root=os.path.join(EXTRACT_DIR, \"RVSC\", \"TrainingSet\"),\n",
        "            output_root=NIFTI_DIR\n",
        "        )\n",
        "    else:\n",
        "        print(\"✅ NIfTI conversion already completed.\")\n",
        "\n",
        "    trained_model = train_model(NIFTI_DIR)\n",
        "\n",
        "    # --- Reconstruction and Visualization ---\n",
        "    # Use the first patient's image for 3D reconstruction\n",
        "    sample_image_path = os.path.join(NIFTI_DIR, \"train\", \"images\", \"P01_image.nii\")\n",
        "    if os.path.exists(sample_image_path):\n",
        "        generate_3d_mesh_from_prediction(trained_model, sample_image_path)\n",
        "    else:\n",
        "        print(f\"❌ Sample image not found at: {sample_image_path}\")"
      ],
      "metadata": {
        "colab": {
          "base_uri": "https://localhost:8080/",
          "height": 1000
        },
        "id": "xIABUNDuvwmD",
        "outputId": "b9ad8f51-8035-4195-f0e8-741ce33fed51"
      },
      "execution_count": null,
      "outputs": [
        {
          "output_type": "stream",
          "name": "stdout",
          "text": [
            "🗑️ Removing existing zip file: /content/RVSC.zip\n",
            "🗑️ Removing existing extracted directory: /content/RVSC_unzipped_new/RVSC\n",
            "📥 Downloading RVSC dataset...\n"
          ]
        },
        {
          "output_type": "stream",
          "name": "stderr",
          "text": [
            "Downloading...\n",
            "From (original): https://drive.google.com/uc?id=1l_QXBRGHrfA24CAo04gYgciy2sCNhnF5\n",
            "From (redirected): https://drive.google.com/uc?id=1l_QXBRGHrfA24CAo04gYgciy2sCNhnF5&confirm=t&uuid=521bfeab-8652-4079-9cc8-7e4b8f2ac256\n",
            "To: /content/RVSC.zip\n",
            "100%|██████████| 237M/237M [00:01<00:00, 233MB/s]\n"
          ]
        },
        {
          "output_type": "stream",
          "name": "stdout",
          "text": [
            "📦 Extracting dataset...\n",
            "✅ Dataset extracted.\n",
            "✅ NIfTI conversion already completed.\n",
            "Checking for files in /content/nifti_output/P11...\n",
            "Image source: /content/nifti_output/P11/image.nii, exists: True\n",
            "Mask source: /content/nifti_output/P11/mask.nii, exists: True\n",
            "Copying files for P11...\n",
            "Copied files for P11.\n",
            "Checking for files in /content/nifti_output/P05...\n",
            "Image source: /content/nifti_output/P05/image.nii, exists: True\n",
            "Mask source: /content/nifti_output/P05/mask.nii, exists: True\n",
            "Copying files for P05...\n",
            "Copied files for P05.\n",
            "Checking for files in /content/nifti_output/P06...\n",
            "Image source: /content/nifti_output/P06/image.nii, exists: True\n",
            "Mask source: /content/nifti_output/P06/mask.nii, exists: True\n",
            "Copying files for P06...\n",
            "Copied files for P06.\n",
            "Checking for files in /content/nifti_output/P07...\n",
            "Image source: /content/nifti_output/P07/image.nii, exists: True\n",
            "Mask source: /content/nifti_output/P07/mask.nii, exists: True\n",
            "Copying files for P07...\n",
            "Copied files for P07.\n",
            "Checking for files in /content/nifti_output/P01...\n",
            "Image source: /content/nifti_output/P01/image.nii, exists: True\n",
            "Mask source: /content/nifti_output/P01/mask.nii, exists: True\n",
            "Copying files for P01...\n",
            "Copied files for P01.\n",
            "Checking for files in /content/nifti_output/P15...\n",
            "Image source: /content/nifti_output/P15/image.nii, exists: True\n",
            "Mask source: /content/nifti_output/P15/mask.nii, exists: True\n",
            "Copying files for P15...\n",
            "Copied files for P15.\n",
            "Checking for files in /content/nifti_output/P10...\n",
            "Image source: /content/nifti_output/P10/image.nii, exists: True\n",
            "Mask source: /content/nifti_output/P10/mask.nii, exists: True\n",
            "Copying files for P10...\n",
            "Copied files for P10.\n",
            "Checking for files in /content/nifti_output/P16...\n",
            "Image source: /content/nifti_output/P16/image.nii, exists: True\n",
            "Mask source: /content/nifti_output/P16/mask.nii, exists: True\n",
            "Copying files for P16...\n",
            "Copied files for P16.\n",
            "Checking for files in /content/nifti_output/P04...\n",
            "Image source: /content/nifti_output/P04/image.nii, exists: True\n",
            "Mask source: /content/nifti_output/P04/mask.nii, exists: True\n",
            "Copying files for P04...\n",
            "Copied files for P04.\n",
            "Checking for files in /content/nifti_output/P03...\n",
            "Image source: /content/nifti_output/P03/image.nii, exists: True\n",
            "Mask source: /content/nifti_output/P03/mask.nii, exists: True\n",
            "Copying files for P03...\n",
            "Copied files for P03.\n",
            "Checking for files in /content/nifti_output/P13...\n",
            "Image source: /content/nifti_output/P13/image.nii, exists: True\n",
            "Mask source: /content/nifti_output/P13/mask.nii, exists: True\n",
            "Copying files for P13...\n",
            "Copied files for P13.\n",
            "Checking for files in /content/nifti_output/P14...\n",
            "Image source: /content/nifti_output/P14/image.nii, exists: True\n",
            "Mask source: /content/nifti_output/P14/mask.nii, exists: True\n",
            "Copying files for P14...\n",
            "Copied files for P14.\n",
            "Checking for files in /content/nifti_output/P08...\n",
            "Image source: /content/nifti_output/P08/image.nii, exists: True\n",
            "Mask source: /content/nifti_output/P08/mask.nii, exists: True\n",
            "Copying files for P08...\n",
            "Copied files for P08.\n",
            "Checking for files in /content/nifti_output/P02...\n",
            "Image source: /content/nifti_output/P02/image.nii, exists: True\n",
            "Mask source: /content/nifti_output/P02/mask.nii, exists: True\n",
            "Copying files for P02...\n",
            "Copied files for P02.\n",
            "Checking for files in /content/nifti_output/P12...\n",
            "Image source: /content/nifti_output/P12/image.nii, exists: True\n",
            "Mask source: /content/nifti_output/P12/mask.nii, exists: True\n",
            "Copying files for P12...\n",
            "Copied files for P12.\n",
            "Checking for files in /content/nifti_output/P09...\n",
            "Image source: /content/nifti_output/P09/image.nii, exists: True\n",
            "Mask source: /content/nifti_output/P09/mask.nii, exists: True\n",
            "Copying files for P09...\n",
            "Copied files for P09.\n",
            "Contents of /content/nifti_output/train/images: ['P02_image.nii', 'P13_image.nii', 'P09_image.nii', 'P12_image.nii', 'P04_image.nii', 'P03_image.nii', 'P16_image.nii', 'P06_image.nii', 'P15_image.nii', 'P11_image.nii', 'P14_image.nii', 'P10_image.nii', 'P01_image.nii', 'P08_image.nii', 'P05_image.nii', 'P07_image.nii']\n",
            "Contents of /content/nifti_output/train/masks: ['P03_mask.nii', 'P06_mask.nii', 'P16_mask.nii', 'P15_mask.nii', 'P14_mask.nii', 'P10_mask.nii', 'P07_mask.nii', 'P12_mask.nii', 'P09_mask.nii', 'P13_mask.nii', 'P11_mask.nii', 'P04_mask.nii', 'P05_mask.nii', 'P02_mask.nii', 'P08_mask.nii', 'P01_mask.nii']\n",
            "glob.glob found 16 image files with pattern *_image.nii\n",
            "glob.glob found 16 mask files with pattern *_mask.nii\n",
            "Attempting to find images in: /content/nifti_output/train/images\n",
            "Found 16 image files.\n",
            "Attempting to find masks in: /content/nifti_output/train/masks\n",
            "Found 16 mask files.\n",
            "Dataset length after initialization: 16\n",
            "🚀 Starting training on cuda...\n",
            "Epoch 1/75 - Loss: 0.5970, DICE: 0.0000\n",
            "Epoch 2/75 - Loss: 0.4436, DICE: 0.0000\n",
            "Epoch 3/75 - Loss: 0.3971, DICE: 0.0000\n",
            "Epoch 4/75 - Loss: 0.3589, DICE: 0.0000\n",
            "Epoch 5/75 - Loss: 0.3353, DICE: 0.0000\n",
            "Epoch 6/75 - Loss: 0.3156, DICE: 0.0000\n",
            "Epoch 7/75 - Loss: 0.2990, DICE: 0.0000\n",
            "Epoch 8/75 - Loss: 0.2854, DICE: 0.0000\n",
            "Epoch 9/75 - Loss: 0.2882, DICE: 0.0000\n",
            "Epoch 10/75 - Loss: 0.2684, DICE: 0.0000\n",
            "Epoch 11/75 - Loss: 0.2493, DICE: 0.0000\n",
            "Epoch 12/75 - Loss: 0.2287, DICE: 0.0000\n",
            "Epoch 13/75 - Loss: 0.2294, DICE: 0.0000\n",
            "Epoch 14/75 - Loss: 0.2147, DICE: 0.0000\n",
            "Epoch 15/75 - Loss: 0.1975, DICE: 0.0000\n",
            "Epoch 16/75 - Loss: 0.1845, DICE: 0.0000\n",
            "Epoch 17/75 - Loss: 0.1778, DICE: 0.0000\n",
            "Epoch 18/75 - Loss: 0.1664, DICE: 0.0000\n",
            "Epoch 19/75 - Loss: 0.1574, DICE: 0.0000\n",
            "Epoch 20/75 - Loss: 0.1499, DICE: 0.0000\n",
            "Epoch 21/75 - Loss: 0.1431, DICE: 0.0000\n",
            "Epoch 22/75 - Loss: 0.1370, DICE: 0.0000\n",
            "Epoch 23/75 - Loss: 0.1317, DICE: 0.0000\n",
            "Epoch 24/75 - Loss: 0.1294, DICE: 0.0000\n",
            "Epoch 25/75 - Loss: 0.1224, DICE: 0.0000\n",
            "Epoch 26/75 - Loss: 0.1166, DICE: 0.0000\n",
            "Epoch 27/75 - Loss: 0.1123, DICE: 0.0000\n",
            "Epoch 28/75 - Loss: 0.1078, DICE: 0.0000\n",
            "Epoch 29/75 - Loss: 0.1036, DICE: 0.0000\n",
            "Epoch 30/75 - Loss: 0.0999, DICE: 0.0000\n",
            "Epoch 31/75 - Loss: 0.0963, DICE: 0.0000\n",
            "Epoch 32/75 - Loss: 0.0930, DICE: 0.0000\n",
            "Epoch 33/75 - Loss: 0.0896, DICE: 0.0000\n",
            "Epoch 34/75 - Loss: 0.0864, DICE: 0.0000\n",
            "Epoch 35/75 - Loss: 0.0836, DICE: 0.0000\n",
            "Epoch 36/75 - Loss: 0.0807, DICE: 0.0000\n",
            "Epoch 37/75 - Loss: 0.0784, DICE: 0.0000\n",
            "Epoch 38/75 - Loss: 0.0758, DICE: 0.0000\n",
            "Epoch 39/75 - Loss: 0.0735, DICE: 0.0000\n",
            "Epoch 40/75 - Loss: 0.0713, DICE: 0.0000\n",
            "Epoch 41/75 - Loss: 0.0692, DICE: 0.0000\n",
            "Epoch 42/75 - Loss: 0.0672, DICE: 0.0000\n",
            "Epoch 43/75 - Loss: 0.0653, DICE: 0.0000\n",
            "Epoch 44/75 - Loss: 0.0637, DICE: 0.0000\n",
            "Epoch 45/75 - Loss: 0.0618, DICE: 0.0000\n",
            "Epoch 46/75 - Loss: 0.0602, DICE: 0.0000\n",
            "Epoch 47/75 - Loss: 0.0590, DICE: 0.0000\n",
            "Epoch 48/75 - Loss: 0.0574, DICE: 0.0000\n",
            "Epoch 49/75 - Loss: 0.0558, DICE: 0.0000\n",
            "Epoch 50/75 - Loss: 0.0544, DICE: 0.0000\n",
            "Epoch 51/75 - Loss: 0.0532, DICE: 0.0000\n",
            "Epoch 52/75 - Loss: 0.0517, DICE: 0.0000\n",
            "Epoch 53/75 - Loss: 0.0505, DICE: 0.0000\n",
            "Epoch 54/75 - Loss: 0.0496, DICE: 0.0000\n",
            "Epoch 55/75 - Loss: 0.0482, DICE: 0.0000\n",
            "Epoch 56/75 - Loss: 0.0471, DICE: 0.0000\n",
            "Epoch 57/75 - Loss: 0.0458, DICE: 0.0000\n",
            "Epoch 58/75 - Loss: 0.0447, DICE: 0.0000\n",
            "Epoch 59/75 - Loss: 0.0439, DICE: 0.0000\n",
            "Epoch 60/75 - Loss: 0.0430, DICE: 0.0000\n",
            "Epoch 61/75 - Loss: 0.0420, DICE: 0.0000\n",
            "Epoch 62/75 - Loss: 0.0410, DICE: 0.0000\n",
            "Epoch 63/75 - Loss: 0.0401, DICE: 0.0000\n",
            "Epoch 64/75 - Loss: 0.0392, DICE: 0.0000\n",
            "Epoch 65/75 - Loss: 0.0382, DICE: 0.0000\n",
            "Epoch 66/75 - Loss: 0.0374, DICE: 0.0000\n",
            "Epoch 67/75 - Loss: 0.0370, DICE: 0.0000\n",
            "Epoch 68/75 - Loss: 0.0360, DICE: 0.0000\n",
            "Epoch 69/75 - Loss: 0.0354, DICE: 0.0000\n",
            "Epoch 70/75 - Loss: 0.0346, DICE: 0.0000\n",
            "Epoch 71/75 - Loss: 0.0337, DICE: 0.0000\n",
            "Epoch 72/75 - Loss: 0.0330, DICE: 0.0000\n",
            "Epoch 73/75 - Loss: 0.0323, DICE: 0.0000\n",
            "Epoch 74/75 - Loss: 0.0316, DICE: 0.0000\n",
            "Epoch 75/75 - Loss: 0.0312, DICE: 0.0000\n"
          ]
        },
        {
          "output_type": "display_data",
          "data": {
            "text/plain": [
              "<Figure size 1200x500 with 2 Axes>"
            ],
            "image/png": "[encoded data removed]"
          },
          "metadata": {}
        },
        {
          "output_type": "stream",
          "name": "stdout",
          "text": [
            "Prediction contains labels: [0]\n",
            "⚠️ Warning: Target label 1 not found in prediction. Cannot generate mesh.\n"
          ]
        }
      ]
    }
  ]
}